{
 "cells": [
  {
   "cell_type": "markdown",
   "metadata": {},
   "source": [
    "# Data Mining Assignment 2\n",
    "# Muhammad Waleed\n",
    "# 20B-115-SE \n",
    "# SE-B"
   ]
  },
  {
   "cell_type": "code",
   "execution_count": 25,
   "metadata": {},
   "outputs": [],
   "source": [
    "from matplotlib import pyplot as plt\n",
    "import pandas as pd\n",
    "import numpy as np"
   ]
  },
  {
   "cell_type": "code",
   "execution_count": 26,
   "metadata": {},
   "outputs": [
    {
     "name": "stdout",
     "output_type": "stream",
     "text": [
      "   anime_id                              name  \\\n",
      "0     32281                    Kimi no Na wa.   \n",
      "1      5114  Fullmetal Alchemist: Brotherhood   \n",
      "2     28977                          Gintama°   \n",
      "3      9253                       Steins;Gate   \n",
      "4      9969                     Gintama&#039;   \n",
      "\n",
      "                                               genre   type episodes  rating  \\\n",
      "0               Drama, Romance, School, Supernatural  Movie        1    9.37   \n",
      "1  Action, Adventure, Drama, Fantasy, Magic, Mili...     TV       64    9.26   \n",
      "2  Action, Comedy, Historical, Parody, Samurai, S...     TV       51    9.25   \n",
      "3                                   Sci-Fi, Thriller     TV       24    9.17   \n",
      "4  Action, Comedy, Historical, Parody, Samurai, S...     TV       51    9.16   \n",
      "\n",
      "   members  \n",
      "0   200630  \n",
      "1   793665  \n",
      "2   114262  \n",
      "3   673572  \n",
      "4   151266  \n"
     ]
    }
   ],
   "source": [
    "df = pd.read_csv('anime.csv')\n",
    "print(df.head())"
   ]
  },
  {
   "cell_type": "code",
   "execution_count": 27,
   "metadata": {},
   "outputs": [
    {
     "name": "stdout",
     "output_type": "stream",
     "text": [
      "['anime_id', 'name', 'genre', 'type', 'episodes', 'rating', 'members']\n"
     ]
    }
   ],
   "source": [
    "cols = [col for col in df.columns]\n",
    "print(cols)"
   ]
  },
  {
   "cell_type": "code",
   "execution_count": 28,
   "metadata": {},
   "outputs": [
    {
     "name": "stdout",
     "output_type": "stream",
     "text": [
      "(12294, 7)\n"
     ]
    }
   ],
   "source": [
    "anime_values = df.values\n",
    "print(df.shape)"
   ]
  },
  {
   "cell_type": "code",
   "execution_count": 29,
   "metadata": {},
   "outputs": [
    {
     "name": "stdout",
     "output_type": "stream",
     "text": [
      "['Movie', 'TV', 'OVA', 'Special', 'Music', 'ONA', nan]\n"
     ]
    }
   ],
   "source": [
    "anime_types = []\n",
    "for i in range(len(df)):\n",
    "    if anime_values[i][3] not in anime_types:\n",
    "        anime_types.append(anime_values[i][3])\n",
    "\n",
    "print(anime_types)"
   ]
  },
  {
   "cell_type": "code",
   "execution_count": 30,
   "metadata": {},
   "outputs": [
    {
     "name": "stdout",
     "output_type": "stream",
     "text": [
      "Total Movie: 2348\n",
      "Total TV: 3787\n",
      "Total OVA: 3311\n",
      "Total Special: 1676\n",
      "Total Music: 488\n",
      "Total ONA: 659\n",
      "Total nan: 0\n"
     ]
    }
   ],
   "source": [
    "for anime_type in anime_types:\n",
    "    print(f'Total {anime_type}: {len(df[df.type == anime_type])}')"
   ]
  },
  {
   "cell_type": "code",
   "execution_count": 31,
   "metadata": {},
   "outputs": [
    {
     "name": "stdout",
     "output_type": "stream",
     "text": [
      "(3787, 7)\n",
      "(2348, 7)\n"
     ]
    },
    {
     "name": "stderr",
     "output_type": "stream",
     "text": [
      "C:\\Users\\ADMIN\\AppData\\Local\\Temp\\ipykernel_21192\\107942904.py:5: SettingWithCopyWarning: \n",
      "A value is trying to be set on a copy of a slice from a DataFrame.\n",
      "Try using .loc[row_indexer,col_indexer] = value instead\n",
      "\n",
      "See the caveats in the documentation: https://pandas.pydata.org/pandas-docs/stable/user_guide/indexing.html#returning-a-view-versus-a-copy\n",
      "  anime_data['episodes'] = anime_data['episodes'].replace('Unknown', np.nan)\n"
     ]
    }
   ],
   "source": [
    "anime_data = df[df.type == 'TV']\n",
    "movie_data = df[df.type == 'Movie']\n",
    "print(anime_data.shape)\n",
    "print(movie_data.shape)\n",
    "anime_data['episodes'] = anime_data['episodes'].replace('Unknown', np.nan)"
   ]
  },
  {
   "cell_type": "code",
   "execution_count": 32,
   "metadata": {},
   "outputs": [],
   "source": [
    "best_tv_by_rating = anime_data.sort_values(by='rating', ascending=False)\n",
    "best_tv_by_members = anime_data.sort_values(by='members', ascending=False)\n",
    "best_tv_by_episodes = anime_data.sort_values(by='episodes', ascending=False)\n",
    "\n",
    "best_movies_by_rating = movie_data.sort_values(by='rating', ascending=False)\n",
    "best_movies_by_members = movie_data.sort_values(by='members', ascending=False)\n",
    "best_movies_by_episodes = movie_data.sort_values(by='episodes', ascending=False)"
   ]
  },
  {
   "cell_type": "code",
   "execution_count": 33,
   "metadata": {},
   "outputs": [
    {
     "name": "stdout",
     "output_type": "stream",
     "text": [
      "       anime_id                                               name  \\\n",
      "10400     30120                        Spoon-hime no Swing Kitchen   \n",
      "1          5114                   Fullmetal Alchemist: Brotherhood   \n",
      "2         28977                                           Gintama°   \n",
      "3          9253                                        Steins;Gate   \n",
      "4          9969                                      Gintama&#039;   \n",
      "5         32935  Haikyuu!!: Karasuno Koukou VS Shiratorizawa Ga...   \n",
      "6         11061                             Hunter x Hunter (2011)   \n",
      "9         15417                           Gintama&#039;: Enchousen   \n",
      "10         4181                               Clannad: After Story   \n",
      "12          918                                            Gintama   \n",
      "\n",
      "                                                   genre type episodes  \\\n",
      "10400                                    Adventure, Kids   TV      NaN   \n",
      "1      Action, Adventure, Drama, Fantasy, Magic, Mili...   TV       64   \n",
      "2      Action, Comedy, Historical, Parody, Samurai, S...   TV       51   \n",
      "3                                       Sci-Fi, Thriller   TV       24   \n",
      "4      Action, Comedy, Historical, Parody, Samurai, S...   TV       51   \n",
      "5                 Comedy, Drama, School, Shounen, Sports   TV       10   \n",
      "6                Action, Adventure, Shounen, Super Power   TV      148   \n",
      "9      Action, Comedy, Historical, Parody, Samurai, S...   TV       13   \n",
      "10     Drama, Fantasy, Romance, Slice of Life, Supern...   TV       24   \n",
      "12     Action, Comedy, Historical, Parody, Samurai, S...   TV      201   \n",
      "\n",
      "       rating  members  \n",
      "10400    9.60       47  \n",
      "1        9.26   793665  \n",
      "2        9.25   114262  \n",
      "3        9.17   673572  \n",
      "4        9.16   151266  \n",
      "5        9.15    93351  \n",
      "6        9.13   425855  \n",
      "9        9.11    81109  \n",
      "10       9.06   456749  \n",
      "12       9.04   336376  \n",
      "     anime_id                              name  \\\n",
      "40       1535                        Death Note   \n",
      "86      16498                Shingeki no Kyojin   \n",
      "804     11757                  Sword Art Online   \n",
      "1        5114  Fullmetal Alchemist: Brotherhood   \n",
      "159      6547                      Angel Beats!   \n",
      "19       1575   Code Geass: Hangyaku no Lelouch   \n",
      "841        20                            Naruto   \n",
      "3        9253                       Steins;Gate   \n",
      "445     10620                  Mirai Nikki (TV)   \n",
      "131      4224                         Toradora!   \n",
      "\n",
      "                                                 genre type episodes  rating  \\\n",
      "40   Mystery, Police, Psychological, Supernatural, ...   TV       37    8.71   \n",
      "86        Action, Drama, Fantasy, Shounen, Super Power   TV       25    8.54   \n",
      "804          Action, Adventure, Fantasy, Game, Romance   TV       25    7.83   \n",
      "1    Action, Adventure, Drama, Fantasy, Magic, Mili...   TV       64    9.26   \n",
      "159        Action, Comedy, Drama, School, Supernatural   TV       13    8.39   \n",
      "19   Action, Mecha, Military, School, Sci-Fi, Super...   TV       25    8.83   \n",
      "841  Action, Comedy, Martial Arts, Shounen, Super P...   TV      220    7.81   \n",
      "3                                     Sci-Fi, Thriller   TV       24    9.17   \n",
      "445  Action, Mystery, Psychological, Shounen, Super...   TV       26    8.07   \n",
      "131             Comedy, Romance, School, Slice of Life   TV       25    8.45   \n",
      "\n",
      "     members  \n",
      "40   1013917  \n",
      "86    896229  \n",
      "804   893100  \n",
      "1     793665  \n",
      "159   717796  \n",
      "19    715151  \n",
      "841   683297  \n",
      "3     673572  \n",
      "445   657190  \n",
      "131   633817  \n",
      "       anime_id                                        name  \\\n",
      "2276       3437                               Mister Ajikko   \n",
      "69        12431                               Uchuu Kyoudai   \n",
      "1128       2268  Tatakae! Chou Robot Seimeitai Transformers   \n",
      "588        6033                             Dragon Ball Kai   \n",
      "3446       2707          Majime ni Fumajime Kaiketsu Zorori   \n",
      "4960      12929                           Saint Seiya Omega   \n",
      "258        1453                               Maison Ikkoku   \n",
      "5692       1547                            Obake no Q-tarou   \n",
      "10637     12887                         Uchuu Shounen Soran   \n",
      "4620       2686                             Tetsujin 28-gou   \n",
      "\n",
      "                                                   genre type episodes  \\\n",
      "2276                                     Comedy, Shounen   TV       99   \n",
      "69          Comedy, Sci-Fi, Seinen, Slice of Life, Space   TV       99   \n",
      "1128                   Adventure, Mecha, Sci-Fi, Shounen   TV       98   \n",
      "588    Action, Adventure, Comedy, Fantasy, Martial Ar...   TV       97   \n",
      "3446                                     Adventure, Kids   TV       97   \n",
      "4960                 Action, Adventure, Fantasy, Shounen   TV       97   \n",
      "258                Comedy, Drama, Romance, Slice of Life   TV       96   \n",
      "5692         Comedy, School, Slice of Life, Supernatural   TV       96   \n",
      "10637                          Action, Adventure, Sci-Fi   TV       96   \n",
      "4620                   Adventure, Mecha, Sci-Fi, Shounen   TV       96   \n",
      "\n",
      "       rating  members  \n",
      "2276     7.31     1828  \n",
      "69       8.59    72958  \n",
      "1128     7.67     5652  \n",
      "588      7.95   116832  \n",
      "3446     6.99      390  \n",
      "4960     6.59    22684  \n",
      "258      8.25    22079  \n",
      "5692     6.38      250  \n",
      "10637    6.22      122  \n",
      "4620     6.68     1194  \n"
     ]
    }
   ],
   "source": [
    "print(best_tv_by_rating.head(10))\n",
    "print(best_tv_by_members.head(10))\n",
    "print(best_tv_by_episodes.head(10))"
   ]
  },
  {
   "cell_type": "code",
   "execution_count": 34,
   "metadata": {},
   "outputs": [
    {
     "name": "stdout",
     "output_type": "stream",
     "text": [
      "       anime_id                                               name  \\\n",
      "10464     33662            Taka no Tsume 8: Yoshida-kun no X-Files   \n",
      "9595      23005                                   Mogura no Motoro   \n",
      "0         32281                                     Kimi no Na wa.   \n",
      "9078      33607                                       Kahei no Umi   \n",
      "8         15335  Gintama Movie: Kanketsu-hen - Yorozuya yo Eien...   \n",
      "11        28851                                     Koe no Katachi   \n",
      "9577      33980                Mirai ni Mukete: Bousai wo Kangaeru   \n",
      "9831      26145                                  Okaachan Gomen ne   \n",
      "10181     32627                                   Shaka no Shougai   \n",
      "10191     32796                            Shenmi Shijie Lixian Ji   \n",
      "\n",
      "                                                   genre   type episodes  \\\n",
      "10464                                     Comedy, Parody  Movie        1   \n",
      "9595                                       Slice of Life  Movie        1   \n",
      "0                   Drama, Romance, School, Supernatural  Movie        1   \n",
      "9078                                          Historical  Movie        1   \n",
      "8      Action, Comedy, Historical, Parody, Samurai, S...  Movie        1   \n",
      "11                                Drama, School, Shounen  Movie        1   \n",
      "9577                                               Drama  Movie        1   \n",
      "9831                                    Historical, Kids  Movie        1   \n",
      "10181                                         Historical  Movie        1   \n",
      "10191                         Adventure, Comedy, Fantasy  Movie        1   \n",
      "\n",
      "       rating  members  \n",
      "10464   10.00       13  \n",
      "9595     9.50       62  \n",
      "0        9.37   200630  \n",
      "9078     9.33       44  \n",
      "8        9.10    72534  \n",
      "11       9.05   102733  \n",
      "9577     9.00       77  \n",
      "9831     9.00       47  \n",
      "10181    9.00       31  \n",
      "10191    9.00       37  \n",
      "     anime_id                           name  \\\n",
      "15        199  Sen to Chihiro no Kamikakushi   \n",
      "24        164                  Mononoke Hime   \n",
      "35        431            Howl no Ugoku Shiro   \n",
      "411      1689          Byousoku 5 Centimeter   \n",
      "132      2236          Toki wo Kakeru Shoujo   \n",
      "115       523               Tonari no Totoro   \n",
      "25       7311  Suzumiya Haruhi no Shoushitsu   \n",
      "18      12355   Ookami Kodomo no Ame to Yuki   \n",
      "225      5681                    Summer Wars   \n",
      "191        43             Ghost in the Shell   \n",
      "\n",
      "                                                 genre   type episodes  \\\n",
      "15                      Adventure, Drama, Supernatural  Movie        1   \n",
      "24                          Action, Adventure, Fantasy  Movie        1   \n",
      "35                  Adventure, Drama, Fantasy, Romance  Movie        1   \n",
      "411                      Drama, Romance, Slice of Life  Movie        3   \n",
      "132                  Adventure, Drama, Romance, Sci-Fi  Movie        1   \n",
      "115                    Adventure, Comedy, Supernatural  Movie        1   \n",
      "25   Comedy, Mystery, Romance, School, Sci-Fi, Supe...  Movie        1   \n",
      "18                              Fantasy, Slice of Life  Movie        1   \n",
      "225                                     Comedy, Sci-Fi  Movie        1   \n",
      "191  Action, Mecha, Police, Psychological, Sci-Fi, ...  Movie        1   \n",
      "\n",
      "     rating  members  \n",
      "15     8.93   466254  \n",
      "24     8.81   339556  \n",
      "35     8.74   333186  \n",
      "411    8.10   324035  \n",
      "132    8.44   289206  \n",
      "115    8.48   271484  \n",
      "25     8.81   240297  \n",
      "18     8.84   226193  \n",
      "225    8.30   223359  \n",
      "191    8.34   223036  \n",
      "       anime_id                                               name  \\\n",
      "10996     33783                                           Godzilla   \n",
      "10940     33820                       Ao Oni The Animation (Movie)   \n",
      "10947     32086                                       Blame! Movie   \n",
      "8142      30617                                        Animegatari   \n",
      "6200       8928  Visions of Frank: Short Films by Japan&#039;s ...   \n",
      "5289      23697                     Kara no Kyoukai: Manner Movies   \n",
      "1968       3508                                       Genius Party   \n",
      "6464       7420                                     Byulbyul Iyagi   \n",
      "8288       9447                                   Byulbyul Iyagi 2   \n",
      "10863     30309                                     Yuuyake Dandan   \n",
      "\n",
      "                                                   genre   type episodes  \\\n",
      "10996                 Action, Adventure, Fantasy, Sci-Fi  Movie  Unknown   \n",
      "10940                                             Horror  Movie  Unknown   \n",
      "10947  Action, Drama, Mecha, Psychological, Sci-Fi, S...  Movie  Unknown   \n",
      "8142                                              Comedy  Movie  Unknown   \n",
      "6200                                            Dementia  Movie        9   \n",
      "5289                                      Action, Comedy  Movie        7   \n",
      "1968   Action, Dementia, Fantasy, Mecha, Music, Psych...  Movie        7   \n",
      "6464                                Drama, Psychological  Movie        6   \n",
      "8288                                Drama, Psychological  Movie        6   \n",
      "10863                                                NaN  Movie        6   \n",
      "\n",
      "       rating  members  \n",
      "10996     NaN     1022  \n",
      "10940     NaN     1416  \n",
      "10947     NaN     3251  \n",
      "8142     5.36     1308  \n",
      "6200     6.22      267  \n",
      "5289     6.49     5367  \n",
      "1968     7.39    18612  \n",
      "6464     6.10      235  \n",
      "8288     5.86      122  \n",
      "10863    5.55      542  \n"
     ]
    }
   ],
   "source": [
    "print(best_movies_by_rating.head(10))\n",
    "print(best_movies_by_members.head(10))\n",
    "print(best_movies_by_episodes.head(10))"
   ]
  },
  {
   "cell_type": "code",
   "execution_count": 35,
   "metadata": {},
   "outputs": [
    {
     "data": {
      "image/png": "[encoded data removed]",
      "text/plain": [
       "<Figure size 720x720 with 1 Axes>"
      ]
     },
     "metadata": {
      "needs_background": "light"
     },
     "output_type": "display_data"
    }
   ],
   "source": [
    "plt.figure(figsize=(10,10))\n",
    "plt.barh(best_tv_by_rating['name'].head(10),best_tv_by_rating['rating'].head(10))\n",
    "plt.title('Best Anime Series by Rating')\n",
    "plt.xlabel('Rating')\n",
    "plt.ylabel('Anime')\n",
    "plt.show()"
   ]
  },
  {
   "cell_type": "code",
   "execution_count": 36,
   "metadata": {},
   "outputs": [
    {
     "data": {
      "image/png": "[encoded data removed]",
      "text/plain": [
       "<Figure size 720x720 with 1 Axes>"
      ]
     },
     "metadata": {
      "needs_background": "light"
     },
     "output_type": "display_data"
    }
   ],
   "source": [
    "plt.figure(figsize=(10,10))\n",
    "plt.barh(best_movies_by_members['name'].head(10),best_movies_by_members['rating'].head(10))\n",
    "plt.title('Best Anime Movies by Rating')\n",
    "plt.xlabel('Rating')\n",
    "plt.ylabel('Anime')\n",
    "plt.show()"
   ]
  },
  {
   "cell_type": "code",
   "execution_count": 37,
   "metadata": {},
   "outputs": [
    {
     "data": {
      "image/png": "[encoded data removed]",
      "text/plain": [
       "<Figure size 432x288 with 1 Axes>"
      ]
     },
     "metadata": {
      "needs_background": "light"
     },
     "output_type": "display_data"
    }
   ],
   "source": [
    "plot_data = pd.concat([best_tv_by_rating['rating'], best_tv_by_members['members']], axis=1)\n",
    "plot_data.columns = ['rating', 'members']\n",
    "plot_data.plot(kind='scatter', x='rating', y='members')\n",
    "plt.title('Best Anime Series by Rating vs Members')\n",
    "plt.xlabel('Rating')\n",
    "plt.ylabel('Members')\n",
    "plt.show()\n"
   ]
  }
 ],
 "metadata": {
  "kernelspec": {
   "display_name": "Python 3.9.11 64-bit",
   "language": "python",
   "name": "python3"
  },
  "language_info": {
   "codemirror_mode": {
    "name": "ipython",
    "version": 3
   },
   "file_extension": ".py",
   "mimetype": "text/x-python",
   "name": "python",
   "nbconvert_exporter": "python",
   "pygments_lexer": "ipython3",
   "version": "3.9.11"
  },
  "orig_nbformat": 4,
  "vscode": {
   "interpreter": {
    "hash": "c081257499a92776a7ff5343ee4d85420a7950a6ae97b0cb2aee7a7ddd41b7f2"
   }
  }
 },
 "nbformat": 4,
 "nbformat_minor": 2
}
